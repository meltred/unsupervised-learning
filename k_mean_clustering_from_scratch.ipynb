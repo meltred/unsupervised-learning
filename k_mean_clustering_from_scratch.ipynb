{
  "nbformat": 4,
  "nbformat_minor": 0,
  "metadata": {
    "colab": {
      "provenance": []
    },
    "kernelspec": {
      "name": "python3",
      "display_name": "Python 3"
    },
    "language_info": {
      "name": "python"
    }
  },
  "cells": [
    {
      "cell_type": "code",
      "execution_count": null,
      "metadata": {
        "id": "I7a8MCBdd3hJ"
      },
      "outputs": [],
      "source": [
        "import numpy as np\n",
        "import pandas as pd\n",
        "from sklearn.datasets import make_blobs\n",
        "import matplotlib.pyplot as plt\n",
        "from sklearn.cluster import KMeans\n",
        "from sklearn.metrics import silhouette_score\n",
        "import random"
      ]
    },
    {
      "cell_type": "code",
      "source": [
        "centroids = [(-5,-5),(5,5), (-2.5, -2.5)]\n",
        "cluster_std = [1,1,1]"
      ],
      "metadata": {
        "id": "Ztd7YY9BeM2r"
      },
      "execution_count": null,
      "outputs": []
    },
    {
      "cell_type": "code",
      "source": [
        "X,y = make_blobs(n_samples=100,centers=centroids,cluster_std=cluster_std, n_features=2, random_state=2)"
      ],
      "metadata": {
        "id": "cZ9vAXL8eVDL"
      },
      "execution_count": null,
      "outputs": []
    },
    {
      "cell_type": "code",
      "source": [
        "class KMeans:\n",
        "  def __init__(self, n_clusters, max_iter):\n",
        "    self.n_clusters = n_clusters\n",
        "    self.max_iter = max_iter\n",
        "    self.centroids = None\n",
        "  def fit_predict(self, X):\n",
        "    random_index = random.sample(range(0,X.shape[0]), self.n_clusters)\n",
        "    self.centroids = X[random_index]\n",
        "    for i in range(self.max_iter):\n",
        "      cluster_group = self.assign_clusters(X)\n",
        "      old_centroids = self.centroids\n",
        "      self.centroids = self.move_centroids(X, cluster_group)\n",
        "      if(self.centroids == old_centroids).all():\n",
        "        break\n",
        "    return cluster_group\n",
        "  def assign_clusters(self, X):\n",
        "    cluster_group = []\n",
        "    distances = []\n",
        "    for row in X:\n",
        "      for centroid in self.centroids:\n",
        "        distances.append(np.sqrt(np.dot(row-centroid,row-centroid)))\n",
        "      min_distance = min(distances)\n",
        "      index_pos = distances.index(min_distance)\n",
        "      cluster_group.append(index_pos)\n",
        "      distances.clear()\n",
        "    return np.array(cluster_group)\n",
        "  def move_centroids(self, X, cluster_group):\n",
        "    new_centroids = []\n",
        "    cluster_type = np.unique(cluster_group)\n",
        "    for type in cluster_type:\n",
        "      new_centroids.append(np.mean(X[cluster_group == type], axis=0))\n",
        "    return np.array(new_centroids)\n"
      ],
      "metadata": {
        "id": "xts3VPGaecCE"
      },
      "execution_count": null,
      "outputs": []
    },
    {
      "cell_type": "code",
      "source": [
        "km = KMeans(n_clusters=3, max_iter=100)\n",
        "y_means = km.fit_predict(X)\n"
      ],
      "metadata": {
        "id": "v_SW4-taeiIt"
      },
      "execution_count": null,
      "outputs": []
    },
    {
      "cell_type": "code",
      "source": [
        "plt.scatter(X[y_means == 0,0], X[y_means == 0,1], color='red')\n",
        "plt.scatter(X[y_means == 1,0], X[y_means == 1,1], color='blue')\n",
        "plt.scatter(X[y_means == 2,0], X[y_means == 2,1], color='green')\n",
        "\n",
        "plt.scatter(km.centroids[:,0], km.centroids[:,1], color='black', marker='x')\n",
        "plt.show()"
      ],
      "metadata": {
        "id": "_Qll4Bngwd7U",
        "colab": {
          "base_uri": "https://localhost:8080/",
          "height": 430
        },
        "outputId": "1e7f85dd-3dea-4adf-8b87-bbbc451004e6"
      },
      "execution_count": null,
      "outputs": [
        {
          "output_type": "display_data",
          "data": {
            "text/plain": [
              "<Figure size 640x480 with 1 Axes>"
            ],
            "image/png": "[encoded data removed]"
          },
          "metadata": {}
        }
      ]
    },
    {
      "cell_type": "code",
      "source": [],
      "metadata": {
        "id": "9lDIk5o2Hht6"
      },
      "execution_count": null,
      "outputs": []
    }
  ]
}